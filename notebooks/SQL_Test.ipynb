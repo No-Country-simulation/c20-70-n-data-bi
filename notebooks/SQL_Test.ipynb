{
 "cells": [
  {
   "cell_type": "code",
   "execution_count": 9,
   "metadata": {},
   "outputs": [],
   "source": [
    "from sqlalchemy import create_engine\n",
    "import pandas as pd\n",
    "import os\n",
    "from typing import List"
   ]
  },
  {
   "cell_type": "code",
   "execution_count": 3,
   "metadata": {},
   "outputs": [],
   "source": [
    "def db_conn() -> object:\n",
    "    \"\"\"\n",
    "    Crea y retorna una conexión a una base de datos PostgreSQL utilizando las credenciales almacenadas en las variables de entorno.\n",
    "\n",
    "    Retorna:\n",
    "    - engine: Un objeto de SQLAlchemy Engine que representa la conexión a la base de datos.\n",
    "\n",
    "    Comportamiento:\n",
    "    1. Obtiene las variables de entorno necesarias para la conexión a la base de datos.\n",
    "    2. Construye una URL de conexión usando estas variables.\n",
    "    3. Crea y retorna un objeto de SQLAlchemy Engine para conectar con la base de datos PostgreSQL.\n",
    "    \"\"\"\n",
    "    # Obtener las variables de entorno\n",
    "    db_user = os.getenv('DB_USER')\n",
    "    db_password = os.getenv('DB_PASSWORD')\n",
    "    db_host = os.getenv('DB_HOST')\n",
    "    db_port = os.getenv('DB_PORT')\n",
    "    db_name = os.getenv('DB_NAME')\n",
    "    \n",
    "    # Verificar que todas las variables de entorno están presentes\n",
    "    if not all([db_user, db_password, db_host, db_port, db_name]):\n",
    "        raise ValueError(\"Faltan variables de entorno necesarias para la conexión a la base de datos.\")\n",
    "    \n",
    "    # Crear la URL de conexión\n",
    "    connection_url = (\n",
    "        f'postgresql+psycopg2://{db_user}:{db_password}@{db_host}:{db_port}/{db_name}'\n",
    "    )\n",
    "\n",
    "    # Crear y retornar el engine de SQLAlchemy\n",
    "    engine = create_engine(connection_url)\n",
    "\n",
    "    return engine"
   ]
  },
  {
   "cell_type": "code",
   "execution_count": null,
   "metadata": {},
   "outputs": [],
   "source": [
    "# La data se encuentra en kaggle por el tamaño de los datos no puede cargarse en github."
   ]
  },
  {
   "cell_type": "code",
   "execution_count": 4,
   "metadata": {},
   "outputs": [],
   "source": [
    "df_train = pd.read_csv('../datasets/input/fraudTest.csv')\n",
    "df_test = pd.read_csv('../datasets/input/fraudTest.csv')"
   ]
  },
  {
   "cell_type": "code",
   "execution_count": 5,
   "metadata": {},
   "outputs": [],
   "source": [
    "# Cargar el engine \n",
    "engine = db_conn()"
   ]
  },
  {
   "cell_type": "code",
   "execution_count": 10,
   "metadata": {},
   "outputs": [],
   "source": [
    "def append_new_data_to_db(\n",
    "    keys: List[str], \n",
    "    table_name: str, \n",
    "    data: pd.DataFrame, \n",
    "    engine, \n",
    "    index: bool = False\n",
    ") -> None:\n",
    "    \"\"\"\n",
    "    Agrega nuevos datos a la base de datos si no existen.\n",
    "\n",
    "    Args:\n",
    "        primary_key (str): Columna clave primaria de la tabla.\n",
    "        table_name (str): Nombre de la tabla en la base de datos.\n",
    "        data (pd.DataFrame): DataFrame que contiene los datos a agregar.\n",
    "        engine: Conexión al motor de la base de datos.\n",
    "        index (bool, optional): Si se debe escribir el índice. Default es False.\n",
    "    \"\"\"\n",
    "    # Leer la tabla existente en la base de datos\n",
    "    query = f'SELECT {\", \".join(keys)} FROM {table_name}'\n",
    "    existing_table = pd.read_sql(query, engine)\n",
    "\n",
    "    # Calcular los usuarios que no existen en la base de datos\n",
    "    new_users = data[~data[keys].isin(existing_table[keys])]\n",
    "\n",
    "    # Añadir los nuevos usuarios a la base de datos\n",
    "    new_users.to_sql(table_name, engine, if_exists='append', index=index)"
   ]
  },
  {
   "cell_type": "code",
   "execution_count": 6,
   "metadata": {},
   "outputs": [],
   "source": [
    "# Crear la tabla users\n",
    "users = df_train[['cc_num', 'zip', 'first', 'last', 'gender', 'street', 'city', 'state', 'job', 'dob']].drop_duplicates()\n",
    "\n",
    "# Cargar la tabla a la DB\n",
    "append_new_data_to_db(['cc_num'], 'users', users, engine)\n",
    "\n",
    "# Crear la tabla locations\n",
    "locations = df_train[['city', 'state', 'city_pop']].drop_duplicates()\n",
    "\n",
    "# Cargar la tabla a la DB\n",
    "append_new_data_to_db(['city', 'state'], 'locations', locations, engine)\n",
    "\n",
    "# Crear la tabla merchants\n",
    "merchants = df_train[['merchant', 'merch_lat', 'merch_long']].drop_duplicates()\n",
    "\n",
    "# Cargar la tabla a la DB\n",
    "append_new_data_to_db(['merchant'], 'merchants', merchants, engine)\n",
    "\n",
    "# Crear la tabla transactions\n",
    "transactions = df_train[['trans_date_trans_time', 'cc_num', 'merchant', 'category', 'amt', 'lat', 'long', 'trans_num', 'unix_time']].drop_duplicates()\n",
    "\n",
    "# Cargar la tabla a la DB\n",
    "append_new_data_to_db(['trans_num'], 'transactions', transactions, engine, index=True)"
   ]
  },
  {
   "cell_type": "code",
   "execution_count": 48,
   "metadata": {},
   "outputs": [
    {
     "data": {
      "text/plain": [
       "924"
      ]
     },
     "execution_count": 48,
     "metadata": {},
     "output_type": "execute_result"
    }
   ],
   "source": [
    "# Leer la tabla existente en la base de datos\n",
    "existing_users = pd.read_sql('SELECT cc_num FROM users', engine)\n",
    "\n",
    "# Calcular nuevos usuarios\n",
    "new_users = users[~users['cc_num'].isin(existing_users['cc_num'])]\n",
    "\n",
    "# Añadir los nuevos usuarios a la DB\n",
    "users.to_sql('users', engine, if_exists='append', index=False)"
   ]
  },
  {
   "cell_type": "code",
   "execution_count": 16,
   "metadata": {},
   "outputs": [],
   "source": [
    "append_new_data_to_db(['trans_num'], 'transactions', transactions, engine)"
   ]
  },
  {
   "cell_type": "code",
   "execution_count": null,
   "metadata": {},
   "outputs": [],
   "source": []
  }
 ],
 "metadata": {
  "kernelspec": {
   "display_name": ".venv",
   "language": "python",
   "name": "python3"
  },
  "language_info": {
   "codemirror_mode": {
    "name": "ipython",
    "version": 3
   },
   "file_extension": ".py",
   "mimetype": "text/x-python",
   "name": "python",
   "nbconvert_exporter": "python",
   "pygments_lexer": "ipython3",
   "version": "3.8.7"
  }
 },
 "nbformat": 4,
 "nbformat_minor": 2
}
